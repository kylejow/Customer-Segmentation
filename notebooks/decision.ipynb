{
 "cells": [
  {
   "cell_type": "code",
   "execution_count": 3,
   "metadata": {},
   "outputs": [],
   "source": [
    "import pandas as pd\n",
    "df = pd.read_csv('../datasets/Mall_Customers.csv')\n",
    "# Map genders to numbers\n",
    "gender_map = {'Male': 0, 'Female': 1}\n",
    "pd.set_option('future.no_silent_downcasting', True)\n",
    "df['Gender'] = df['Gender'].replace(gender_map)\n",
    "# Define spending categories based on score thresholds\n",
    "def categorize_spending(score):\n",
    "    if score < 33:\n",
    "        return 1\n",
    "    elif score <= 66:\n",
    "        return 2\n",
    "    else:\n",
    "        return 3\n",
    "# Apply the categorization function to create a new column 'Spending Category'\n",
    "df['Spending Category'] = df['Spending Score (1-100)'].apply(categorize_spending)\n",
    "df.drop(columns=['CustomerID'], inplace=True)\n",
    "df.drop(columns=['Spending Score (1-100)'], inplace=True)"
   ]
  },
  {
   "cell_type": "code",
   "execution_count": 4,
   "metadata": {},
   "outputs": [
    {
     "name": "stdout",
     "output_type": "stream",
     "text": [
      "Classification Report:\n",
      "              precision    recall  f1-score   support\n",
      "\n",
      "           1       0.83      0.38      0.53        13\n",
      "           2       0.72      0.90      0.80        20\n",
      "           3       0.56      0.71      0.62         7\n",
      "\n",
      "    accuracy                           0.70        40\n",
      "   macro avg       0.70      0.67      0.65        40\n",
      "weighted avg       0.73      0.70      0.68        40\n",
      "\n",
      "Confusion Matrix:\n",
      "[[ 5  5  3]\n",
      " [ 1 18  1]\n",
      " [ 0  2  5]]\n"
     ]
    }
   ],
   "source": [
    "from sklearn.model_selection import train_test_split\n",
    "from sklearn.tree import DecisionTreeClassifier\n",
    "from sklearn.metrics import accuracy_score, classification_report, confusion_matrix\n",
    "import pandas as pd\n",
    "\n",
    "\n",
    "X = df.drop(columns=['Spending Category'])\n",
    "y = df['Spending Category']\n",
    "\n",
    "X_train, X_test, y_train, y_test = train_test_split(X, y, test_size=0.2, random_state=42)\n",
    "\n",
    "clf = DecisionTreeClassifier(random_state=42)\n",
    "\n",
    "clf.fit(X_train, y_train)\n",
    "\n",
    "y_pred = clf.predict(X_test)\n",
    "\n",
    "print(\"Classification Report:\")\n",
    "print(classification_report(y_test, y_pred))\n",
    "print(\"Confusion Matrix:\")\n",
    "print(confusion_matrix(y_test, y_pred))"
   ]
  }
 ],
 "metadata": {
  "kernelspec": {
   "display_name": "Python 3",
   "language": "python",
   "name": "python3"
  },
  "language_info": {
   "codemirror_mode": {
    "name": "ipython",
    "version": 3
   },
   "file_extension": ".py",
   "mimetype": "text/x-python",
   "name": "python",
   "nbconvert_exporter": "python",
   "pygments_lexer": "ipython3",
   "version": "3.12.2"
  }
 },
 "nbformat": 4,
 "nbformat_minor": 2
}
