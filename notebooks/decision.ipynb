{
 "cells": [
  {
   "cell_type": "code",
   "execution_count": 17,
   "metadata": {},
   "outputs": [],
   "source": [
    "import pandas as pd\n",
    "from sklearn.model_selection import train_test_split\n",
    "from sklearn.tree import DecisionTreeClassifier\n",
    "from sklearn.metrics import accuracy_score, classification_report, confusion_matrix\n",
    "import joblib"
   ]
  },
  {
   "cell_type": "code",
   "execution_count": 18,
   "metadata": {},
   "outputs": [],
   "source": [
    "df = pd.read_csv('../datasets/Shopping Mall Customer Segmentation Data.csv')"
   ]
  },
  {
   "cell_type": "code",
   "execution_count": 19,
   "metadata": {},
   "outputs": [],
   "source": [
    "# Map genders to numbers\n",
    "gender_map = {'Male': 0, 'Female': 1}\n",
    "pd.set_option('future.no_silent_downcasting', True)\n",
    "df['Gender'] = df['Gender'].replace(gender_map)"
   ]
  },
  {
   "cell_type": "code",
   "execution_count": 20,
   "metadata": {},
   "outputs": [],
   "source": [
    "# Define spending categories based on score thresholds\n",
    "def categorize_spending(score):\n",
    "    if score < 33:\n",
    "        return 1\n",
    "    elif score <= 66:\n",
    "        return 2\n",
    "    else:\n",
    "        return 3"
   ]
  },
  {
   "cell_type": "code",
   "execution_count": 21,
   "metadata": {},
   "outputs": [],
   "source": [
    "# Apply the categorization function to create a new column 'Spending Category'\n",
    "df['Spending Category'] = df['Spending Score (1-100)'].apply(categorize_spending)\n",
    "df.drop(columns=['CustomerID'], inplace=True)\n",
    "df.drop(columns=['Spending Score (1-100)'], inplace=True)"
   ]
  },
  {
   "cell_type": "code",
   "execution_count": 22,
   "metadata": {},
   "outputs": [
    {
     "name": "stdout",
     "output_type": "stream",
     "text": [
      "Classification Report:\n",
      "              precision    recall  f1-score   support\n",
      "\n",
      "           1       0.29      0.30      0.30       950\n",
      "           2       0.33      0.34      0.34       993\n",
      "           3       0.37      0.35      0.36      1073\n",
      "\n",
      "    accuracy                           0.33      3016\n",
      "   macro avg       0.33      0.33      0.33      3016\n",
      "weighted avg       0.33      0.33      0.33      3016\n",
      "\n",
      "Confusion Matrix:\n",
      "[[285 341 324]\n",
      " [340 342 311]\n",
      " [347 350 376]]\n"
     ]
    }
   ],
   "source": [
    "### Decision ###\n",
    "data = df.copy()\n",
    "X = data.drop(columns=['Spending Category'])\n",
    "y = data['Spending Category']\n",
    "\n",
    "X_train, X_test, y_train, y_test = train_test_split(X, y, test_size=0.2, random_state=42)\n",
    "\n",
    "clf = DecisionTreeClassifier(random_state=42)\n",
    "\n",
    "clf.fit(X_train, y_train)\n",
    "joblib.dump(clf, '../models/decision.pkl')\n",
    "\n",
    "y_pred = clf.predict(X_test)\n",
    "\n",
    "print(\"Classification Report:\")\n",
    "print(classification_report(y_test, y_pred))\n",
    "\n",
    "print(\"Confusion Matrix:\")\n",
    "print(confusion_matrix(y_test, y_pred))"
   ]
  }
 ],
 "metadata": {
  "kernelspec": {
   "display_name": "Python 3",
   "language": "python",
   "name": "python3"
  },
  "language_info": {
   "codemirror_mode": {
    "name": "ipython",
    "version": 3
   },
   "file_extension": ".py",
   "mimetype": "text/x-python",
   "name": "python",
   "nbconvert_exporter": "python",
   "pygments_lexer": "ipython3",
   "version": "3.12.2"
  }
 },
 "nbformat": 4,
 "nbformat_minor": 2
}
