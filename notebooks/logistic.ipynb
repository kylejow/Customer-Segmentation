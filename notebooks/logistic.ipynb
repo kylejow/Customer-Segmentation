{
 "cells": [
  {
   "cell_type": "code",
   "execution_count": 13,
   "id": "717122eebdb55564",
   "metadata": {
    "ExecuteTime": {
     "end_time": "2024-05-05T02:42:08.377671Z",
     "start_time": "2024-05-05T02:42:08.205043Z"
    }
   },
   "outputs": [],
   "source": [
    "import warnings\n",
    "warnings.filterwarnings(\"ignore\")\n",
    "import seaborn as sns\n",
    "sns.set(color_codes=True)\n",
    "import matplotlib.pyplot as plt\n",
    "%matplotlib inline\n",
    "import seaborn as sns\n",
    "sns.set(color_codes=True)\n",
    "import pandas as pd\n",
    "from sklearn.model_selection import train_test_split\n",
    "from sklearn.metrics import classification_report, confusion_matrix,ConfusionMatrixDisplay\n",
    "from sklearn.linear_model import LogisticRegression\n",
    "import joblib"
   ]
  },
  {
   "cell_type": "code",
   "execution_count": 14,
   "id": "79042e86c9fc937a",
   "metadata": {
    "ExecuteTime": {
     "end_time": "2024-05-05T02:42:08.383700Z",
     "start_time": "2024-05-05T02:42:08.377671Z"
    }
   },
   "outputs": [],
   "source": [
    "df = pd.read_csv('../datasets/Mall_Customers.csv')"
   ]
  },
  {
   "cell_type": "code",
   "execution_count": 15,
   "id": "9213cec69ca3ae44",
   "metadata": {
    "ExecuteTime": {
     "end_time": "2024-05-05T02:42:08.388328Z",
     "start_time": "2024-05-05T02:42:08.384712Z"
    }
   },
   "outputs": [],
   "source": [
    "# Map genders to numbers\n",
    "gender_map = {'Male': 0, 'Female': 1}\n",
    "pd.set_option('future.no_silent_downcasting', True)\n",
    "df['Gender'] = df['Gender'].replace(gender_map)"
   ]
  },
  {
   "cell_type": "code",
   "execution_count": 16,
   "id": "aa0826fd844f8e80",
   "metadata": {
    "ExecuteTime": {
     "end_time": "2024-05-05T02:42:08.392817Z",
     "start_time": "2024-05-05T02:42:08.388328Z"
    }
   },
   "outputs": [],
   "source": [
    "# Define spending categories based on score thresholds\n",
    "def categorize_spending(score):\n",
    "    if score < 33:\n",
    "        return 'Low'\n",
    "    elif score <= 66:\n",
    "        return 'Medium'\n",
    "    else:\n",
    "        return 'High'"
   ]
  },
  {
   "cell_type": "code",
   "execution_count": 17,
   "id": "3111a505f3349cb1",
   "metadata": {
    "ExecuteTime": {
     "end_time": "2024-05-05T02:42:08.398633Z",
     "start_time": "2024-05-05T02:42:08.392817Z"
    }
   },
   "outputs": [],
   "source": [
    "# Apply the categorization function to create a new column 'Spending Category'\n",
    "df['Spending Category'] = df['Spending Score (1-100)'].apply(categorize_spending)\n",
    "df.drop(columns=['CustomerID'], inplace=True)\n",
    "df.drop(columns=['Spending Score (1-100)'], inplace=True)"
   ]
  },
  {
   "cell_type": "code",
   "execution_count": 18,
   "id": "eb17a184e68cd791",
   "metadata": {
    "ExecuteTime": {
     "end_time": "2024-05-05T02:42:08.588837Z",
     "start_time": "2024-05-05T02:42:08.398633Z"
    }
   },
   "outputs": [
    {
     "name": "stdout",
     "output_type": "stream",
     "text": [
      "              precision    recall  f1-score   support\n",
      "\n",
      "        High       0.33      0.86      0.48         7\n",
      "         Low       0.00      0.00      0.00        13\n",
      "      Medium       0.50      0.55      0.52        20\n",
      "\n",
      "    accuracy                           0.42        40\n",
      "   macro avg       0.28      0.47      0.33        40\n",
      "weighted avg       0.31      0.42      0.35        40\n",
      "\n"
     ]
    },
    {
     "data": {
      "text/plain": [
       "Text(0.5, 1.0, 'Logistic Confusion Matrix')"
      ]
     },
     "execution_count": 18,
     "metadata": {},
     "output_type": "execute_result"
    },
    {
     "data": {
      "image/png": "[encoded data removed]",
      "text/plain": [
       "<Figure size 640x480 with 2 Axes>"
      ]
     },
     "metadata": {},
     "output_type": "display_data"
    }
   ],
   "source": [
    "### Logistic ###\n",
    "data = df.copy()\n",
    "X = data.drop(columns=['Spending Category'])\n",
    "y = data['Spending Category']\n",
    "\n",
    "# Split the data into training and testing sets\n",
    "X_train, X_test, y_train, y_test = train_test_split(X, y, test_size=0.2, random_state=42)\n",
    "\n",
    "# Create a multiclass logistic regression model\n",
    "logreg = LogisticRegression(multi_class='multinomial', solver='lbfgs', max_iter=1000)\n",
    "\n",
    "# Fit the model on the training data\n",
    "logreg.fit(X_train, y_train)\n",
    "# Save the model\n",
    "joblib.dump(logreg, \"../models/logistic.pkl\")\n",
    "# Make predictions on the test data\n",
    "predictions = logreg.predict(X_test)\n",
    "\n",
    "print(classification_report(y_test, predictions))\n",
    "cm = confusion_matrix(y_test, predictions)\n",
    "ConfusionMatrixDisplay(cm,display_labels=logreg.classes_).plot()\n",
    "plt.grid(False)\n",
    "plt.title('Logistic Confusion Matrix')"
   ]
  },
  {
   "cell_type": "code",
   "execution_count": null,
   "id": "b9998b4746b241f4",
   "metadata": {
    "ExecuteTime": {
     "end_time": "2024-05-05T02:42:08.591702Z",
     "start_time": "2024-05-05T02:42:08.588837Z"
    }
   },
   "outputs": [],
   "source": []
  }
 ],
 "metadata": {
  "kernelspec": {
   "display_name": "Python 3",
   "language": "python",
   "name": "python3"
  },
  "language_info": {
   "codemirror_mode": {
    "name": "ipython",
    "version": 3
   },
   "file_extension": ".py",
   "mimetype": "text/x-python",
   "name": "python",
   "nbconvert_exporter": "python",
   "pygments_lexer": "ipython3",
   "version": "3.12.2"
  }
 },
 "nbformat": 4,
 "nbformat_minor": 5
}
