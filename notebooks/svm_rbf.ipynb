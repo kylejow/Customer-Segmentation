{
 "cells": [
  {
   "cell_type": "code",
   "id": "717122eebdb55564",
   "metadata": {
    "ExecuteTime": {
     "end_time": "2024-05-05T02:42:29.289140Z",
     "start_time": "2024-05-05T02:42:29.140448Z"
    }
   },
   "source": [
    "from sklearn.svm import SVC\n",
    "import warnings\n",
    "warnings.filterwarnings(\"ignore\")\n",
    "import seaborn as sns\n",
    "sns.set(color_codes=True)\n",
    "import matplotlib.pyplot as plt\n",
    "import pandas as pd\n",
    "import numpy as np\n",
    "from sklearn.model_selection import train_test_split\n",
    "from sklearn.metrics import classification_report, confusion_matrix,ConfusionMatrixDisplay\n",
    "from sklearn import preprocessing"
   ],
   "outputs": [],
   "execution_count": 1
  },
  {
   "cell_type": "code",
   "id": "79042e86c9fc937a",
   "metadata": {
    "ExecuteTime": {
     "end_time": "2024-05-05T02:42:29.296331Z",
     "start_time": "2024-05-05T02:42:29.290148Z"
    }
   },
   "source": [
    "df = pd.read_csv('../datasets/Mall_Customers.csv')"
   ],
   "outputs": [],
   "execution_count": 2
  },
  {
   "cell_type": "code",
   "id": "9213cec69ca3ae44",
   "metadata": {
    "ExecuteTime": {
     "end_time": "2024-05-05T02:42:29.300696Z",
     "start_time": "2024-05-05T02:42:29.296331Z"
    }
   },
   "source": [
    "# Map genders to numbers\n",
    "gender_map = {'Male': 0, 'Female': 1}\n",
    "pd.set_option('future.no_silent_downcasting', True)\n",
    "df['Gender'] = df['Gender'].replace(gender_map)"
   ],
   "outputs": [],
   "execution_count": 3
  },
  {
   "cell_type": "code",
   "id": "aa0826fd844f8e80",
   "metadata": {
    "ExecuteTime": {
     "end_time": "2024-05-05T02:42:29.304942Z",
     "start_time": "2024-05-05T02:42:29.300696Z"
    }
   },
   "source": [
    "# Define spending categories based on score thresholds\n",
    "def categorize_spending(score):\n",
    "    if score < 33:\n",
    "        return 'Low'\n",
    "    elif score <= 66:\n",
    "        return 'Medium'\n",
    "    else:\n",
    "        return 'High'"
   ],
   "outputs": [],
   "execution_count": 4
  },
  {
   "cell_type": "code",
   "id": "3111a505f3349cb1",
   "metadata": {
    "ExecuteTime": {
     "end_time": "2024-05-05T02:42:29.310882Z",
     "start_time": "2024-05-05T02:42:29.304942Z"
    }
   },
   "source": [
    "# Apply the categorization function to create a new column 'Spending Category'\n",
    "df['Spending Category'] = df['Spending Score (1-100)'].apply(categorize_spending)\n",
    "df.drop(columns=['CustomerID'], inplace=True)\n",
    "df.drop(columns=['Spending Score (1-100)'], inplace=True)"
   ],
   "outputs": [],
   "execution_count": 5
  },
  {
   "cell_type": "code",
   "id": "8793a62a",
   "metadata": {
    "ExecuteTime": {
     "end_time": "2024-05-05T02:42:29.513465Z",
     "start_time": "2024-05-05T02:42:29.310882Z"
    }
   },
   "source": [
    "### RBF SVM ###\n",
    "data = df.copy()\n",
    "X = data.drop(columns=['Spending Category'])\n",
    "y = data['Spending Category']\n",
    "X_train, X_test, y_train, y_test = train_test_split(X, y, test_size=0.2, random_state=42)\n",
    "X_train = X_train.reset_index(drop=True)\n",
    "X_test = X_test.reset_index(drop=True)\n",
    "\n",
    "svc_li = SVC(kernel='rbf')\n",
    "\n",
    "scaler = preprocessing.StandardScaler()\n",
    "scaler.fit(X_train)\n",
    "\n",
    "Z_svm_train = scaler.transform(X_train)\n",
    "Z_svm_test = scaler.transform(X_test)\n",
    "\n",
    "svc_li.fit(Z_svm_train, np.asarray(y_train))\n",
    "predictions = svc_li.predict(Z_svm_test)\n",
    "\n",
    "print(classification_report(y_test, predictions))\n",
    "\n",
    "cm = confusion_matrix(y_test, svc_li.predict(Z_svm_test))\n",
    "ConfusionMatrixDisplay(cm,display_labels=svc_li.classes_).plot()\n",
    "plt.grid(False)"
   ],
   "outputs": [
    {
     "name": "stdout",
     "output_type": "stream",
     "text": [
      "              precision    recall  f1-score   support\n",
      "\n",
      "        High       0.40      0.57      0.47         7\n",
      "         Low       1.00      0.31      0.47        13\n",
      "      Medium       0.73      0.95      0.83        20\n",
      "\n",
      "    accuracy                           0.68        40\n",
      "   macro avg       0.71      0.61      0.59        40\n",
      "weighted avg       0.76      0.68      0.65        40\n",
      "\n"
     ]
    },
    {
     "data": {
      "text/plain": [
       "<Figure size 640x480 with 2 Axes>"
      ],
      "image/png": "[encoded data removed]"
     },
     "metadata": {},
     "output_type": "display_data"
    }
   ],
   "execution_count": 6
  }
 ],
 "metadata": {
  "kernelspec": {
   "display_name": "Python 3",
   "language": "python",
   "name": "python3"
  },
  "language_info": {
   "codemirror_mode": {
    "name": "ipython",
    "version": 3
   },
   "file_extension": ".py",
   "mimetype": "text/x-python",
   "name": "python",
   "nbconvert_exporter": "python",
   "pygments_lexer": "ipython3",
   "version": "3.12.3"
  }
 },
 "nbformat": 4,
 "nbformat_minor": 5
}
